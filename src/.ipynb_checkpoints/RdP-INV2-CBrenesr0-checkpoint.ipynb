{
 "cells": [
  {
   "attachments": {
    "Logo-TEC-Pagina-Interna.png": {
     "image/png": "[encoded data removed]"
    }
   },
   "cell_type": "markdown",
   "metadata": {},
   "source": [
    "![Logo-TEC-Pagina-Interna.png](attachment:Logo-TEC-Pagina-Interna.png)"
   ]
  },
  {
   "cell_type": "markdown",
   "metadata": {},
   "source": [
    "# **Maestría en Electrónica - Procesamiento Digital de Señales.**  \n",
    "## **Curso:** *Reconocimiento de Patrones* <br> **Investigación Corta #2:** *Aprendizaje.*\n",
    "### *Carlos Brenes Jimenez. (Id: 9002170)*"
   ]
  },
  {
   "cell_type": "markdown",
   "metadata": {},
   "source": [
    "## **Definición:** Un problema es de ***Aprendizaje Supervisado***, cuando se busca automatizar o replicar un proceso existente."
   ]
  },
  {
   "cell_type": "markdown",
   "metadata": {
    "colab_type": "text",
    "id": "UNAGc-oDdGgO"
   },
   "source": [
    "### *1. Se importan las librerías necesarias de Python a utilizar.*"
   ]
  },
  {
   "cell_type": "code",
   "execution_count": 131,
   "metadata": {
    "colab_type": "text",
    "id": "UNAGc-oDdGgO"
   },
   "outputs": [],
   "source": [
    "import numpy as np\n",
    "import pandas as pd\n",
    "import seaborn as sns\n",
    "from matplotlib import pyplot as plt\n",
    "%matplotlib inline"
   ]
  },
  {
   "cell_type": "markdown",
   "metadata": {},
   "source": [
    "### *2. Conjunto de datos seleccionado.* ***Airplane Crash Data Since 1908:*** <br> https://www.kaggle.com/cgurkan/airplane-crash-data-since-1908?select=Airplane_Crashes_and_Fatalities_Since_1908_20190820105639.csv"
   ]
  },
  {
   "cell_type": "markdown",
   "metadata": {},
   "source": [
    "### **Contexto:** <br> El conjunto de datos muestra accidentes aéreos alrededor del mundo de 1908 al 2019. <br> Incluye todos los accidentes aéreos (civiles y comerciales) resultantes en muertes.\n",
    "-----\n",
    "** Objetivo:** Encontrar la causa de accidentes aéreos.<br> 1) Peores aerolíneas <br>2) Peor tipo de aeronave.\n",
    "\n",
    "### **Contenido** \n",
    ".- **Fuente de datos:** http://www.planecrashinfo.com/database.htm. \n",
    ".- **Descripción de las columnas:** \n",
    "#####     + *Date:* Fecha del accidente, en el formato - January 01, 2001.\n",
    "#####     + *Time:* Hora local, en formato de 24hr.\n",
    "#####     + *Airline/Op:* Aerolínea u Dueño de la aeronave.\n",
    "#####     + *Flight #:* Número de vuelo asignado por el operador de la aeronave. \n",
    "#####     + *Route:* Ruta completa o parcial volada antes del accidente.\n",
    "#####     + *AC Type:* Tipo de Aeronave\n",
    "#####     + *Reg:* Registro ICAO de al aeronave.\n",
    "#####     + *cn / ln:* Número de construcción o Número de Serie / Número de línea o fuselaje.\n",
    "#####     + *Aboard:* Total de ocupantes abordo (Pasajeros / tripulación)\n",
    "#####     + *Fatalities:* Total de muertes abordo (Pasajeros / tripulación)\n",
    "#####     + *Ground:* Total de muertos en tierra\n",
    "#####     + *Summary:* Descripción breve del accidente y causa si se conoce.\n",
    "\n"
   ]
  },
  {
   "cell_type": "markdown",
   "metadata": {},
   "source": [
    "### *3. Se carga el conjunto de datos al ambiente Jupyter Lab por medio de la librería Pandas y se asignan a la variable <br> dataframe* ***(df)***"
   ]
  },
  {
   "cell_type": "code",
   "execution_count": 132,
   "metadata": {},
   "outputs": [],
   "source": [
    "df = pd.read_csv('Airplane_Crashes_and_Fatalities_Since_1908_20190820105639.csv')"
   ]
  },
  {
   "cell_type": "markdown",
   "metadata": {},
   "source": [
    "### *4. Analisis Exploratorio de los datos (EDA)* "
   ]
  },
  {
   "cell_type": "markdown",
   "metadata": {},
   "source": [
    "### - *Se determina el tamaño del dataframe (Filas,Columnas)*"
   ]
  },
  {
   "cell_type": "code",
   "execution_count": 133,
   "metadata": {},
   "outputs": [
    {
     "data": {
      "text/plain": [
       "(4967, 17)"
      ]
     },
     "execution_count": 133,
     "metadata": {},
     "output_type": "execute_result"
    }
   ],
   "source": [
    "df_size = df.shape\n",
    "df_size # tipo tupla"
   ]
  },
  {
   "cell_type": "code",
   "execution_count": 134,
   "metadata": {},
   "outputs": [
    {
     "name": "stdout",
     "output_type": "stream",
     "text": [
      "<class 'pandas.core.frame.DataFrame'>\n",
      "RangeIndex: 4967 entries, 0 to 4966\n",
      "Data columns (total 17 columns):\n",
      " #   Column                 Non-Null Count  Dtype  \n",
      "---  ------                 --------------  -----  \n",
      " 0   Date                   4967 non-null   object \n",
      " 1   Time                   3457 non-null   object \n",
      " 2   Location               4963 non-null   object \n",
      " 3   Operator               4957 non-null   object \n",
      " 4   Flight #               1315 non-null   object \n",
      " 5   Route                  4193 non-null   object \n",
      " 6   AC Type                4952 non-null   object \n",
      " 7   Registration           4694 non-null   object \n",
      " 8   cn/ln                  4299 non-null   object \n",
      " 9   Aboard                 4949 non-null   float64\n",
      " 10  Aboard Passangers      4738 non-null   float64\n",
      " 11  Aboard Crew            4741 non-null   float64\n",
      " 12  Fatalities             4959 non-null   float64\n",
      " 13  Fatalities Passangers  4725 non-null   float64\n",
      " 14  Fatalities Crew        4726 non-null   float64\n",
      " 15  Ground                 4926 non-null   float64\n",
      " 16  Summary                4903 non-null   object \n",
      "dtypes: float64(7), object(10)\n",
      "memory usage: 659.8+ KB\n"
     ]
    }
   ],
   "source": [
    "df.info()"
   ]
  },
  {
   "cell_type": "markdown",
   "metadata": {},
   "source": [
    "### - *Se pueden revisar los valores inciales o finales del conjunto de datos*\n",
    "##### ***Sintáxis:*** <br> ```dataframe.head(número de filas a mostrar)``` <br> ```dataframe.tail(número de filas a mostrar)```"
   ]
  },
  {
   "cell_type": "code",
   "execution_count": 135,
   "metadata": {},
   "outputs": [
    {
     "data": {
      "text/html": [
       "<div>\n",
       "<style scoped>\n",
       "    .dataframe tbody tr th:only-of-type {\n",
       "        vertical-align: middle;\n",
       "    }\n",
       "\n",
       "    .dataframe tbody tr th {\n",
       "        vertical-align: top;\n",
       "    }\n",
       "\n",
       "    .dataframe thead th {\n",
       "        text-align: right;\n",
       "    }\n",
       "</style>\n",
       "<table border=\"1\" class=\"dataframe\">\n",
       "  <thead>\n",
       "    <tr style=\"text-align: right;\">\n",
       "      <th></th>\n",
       "      <th>Date</th>\n",
       "      <th>Time</th>\n",
       "      <th>Location</th>\n",
       "      <th>Operator</th>\n",
       "      <th>Flight #</th>\n",
       "      <th>Route</th>\n",
       "      <th>AC Type</th>\n",
       "      <th>Registration</th>\n",
       "      <th>cn/ln</th>\n",
       "      <th>Aboard</th>\n",
       "      <th>Aboard Passangers</th>\n",
       "      <th>Aboard Crew</th>\n",
       "      <th>Fatalities</th>\n",
       "      <th>Fatalities Passangers</th>\n",
       "      <th>Fatalities Crew</th>\n",
       "      <th>Ground</th>\n",
       "      <th>Summary</th>\n",
       "    </tr>\n",
       "  </thead>\n",
       "  <tbody>\n",
       "    <tr>\n",
       "      <th>0</th>\n",
       "      <td>09/17/1908</td>\n",
       "      <td>17:18</td>\n",
       "      <td>Fort Myer, Virginia</td>\n",
       "      <td>Military - U.S. Army</td>\n",
       "      <td>NaN</td>\n",
       "      <td>Demonstration</td>\n",
       "      <td>Wright Flyer III</td>\n",
       "      <td>NaN</td>\n",
       "      <td>1</td>\n",
       "      <td>2.0</td>\n",
       "      <td>1.0</td>\n",
       "      <td>1.0</td>\n",
       "      <td>1.0</td>\n",
       "      <td>1.0</td>\n",
       "      <td>0.0</td>\n",
       "      <td>0.0</td>\n",
       "      <td>During a demonstration flight, a U.S. Army fly...</td>\n",
       "    </tr>\n",
       "    <tr>\n",
       "      <th>1</th>\n",
       "      <td>09/07/1909</td>\n",
       "      <td>NaN</td>\n",
       "      <td>Juvisy-sur-Orge, France</td>\n",
       "      <td>NaN</td>\n",
       "      <td>NaN</td>\n",
       "      <td>Air show</td>\n",
       "      <td>Wright Byplane</td>\n",
       "      <td>SC1</td>\n",
       "      <td>NaN</td>\n",
       "      <td>1.0</td>\n",
       "      <td>0.0</td>\n",
       "      <td>1.0</td>\n",
       "      <td>1.0</td>\n",
       "      <td>0.0</td>\n",
       "      <td>0.0</td>\n",
       "      <td>0.0</td>\n",
       "      <td>Eugene Lefebvre was the first pilot to ever be...</td>\n",
       "    </tr>\n",
       "    <tr>\n",
       "      <th>2</th>\n",
       "      <td>07/12/1912</td>\n",
       "      <td>06:30</td>\n",
       "      <td>Atlantic City, New Jersey</td>\n",
       "      <td>Military - U.S. Navy</td>\n",
       "      <td>NaN</td>\n",
       "      <td>Test flight</td>\n",
       "      <td>Dirigible</td>\n",
       "      <td>NaN</td>\n",
       "      <td>NaN</td>\n",
       "      <td>5.0</td>\n",
       "      <td>0.0</td>\n",
       "      <td>5.0</td>\n",
       "      <td>5.0</td>\n",
       "      <td>0.0</td>\n",
       "      <td>5.0</td>\n",
       "      <td>0.0</td>\n",
       "      <td>First U.S. dirigible Akron exploded just offsh...</td>\n",
       "    </tr>\n",
       "    <tr>\n",
       "      <th>3</th>\n",
       "      <td>08/06/1913</td>\n",
       "      <td>NaN</td>\n",
       "      <td>Victoria, British Columbia, Canada</td>\n",
       "      <td>Private</td>\n",
       "      <td>NaN</td>\n",
       "      <td>NaN</td>\n",
       "      <td>Curtiss seaplane</td>\n",
       "      <td>NaN</td>\n",
       "      <td>NaN</td>\n",
       "      <td>1.0</td>\n",
       "      <td>0.0</td>\n",
       "      <td>1.0</td>\n",
       "      <td>1.0</td>\n",
       "      <td>0.0</td>\n",
       "      <td>1.0</td>\n",
       "      <td>0.0</td>\n",
       "      <td>The first fatal airplane accident in Canada oc...</td>\n",
       "    </tr>\n",
       "    <tr>\n",
       "      <th>4</th>\n",
       "      <td>09/09/1913</td>\n",
       "      <td>18:30</td>\n",
       "      <td>Over the North Sea</td>\n",
       "      <td>Military - German Navy</td>\n",
       "      <td>NaN</td>\n",
       "      <td>NaN</td>\n",
       "      <td>Zeppelin L-1 (airship)</td>\n",
       "      <td>NaN</td>\n",
       "      <td>NaN</td>\n",
       "      <td>20.0</td>\n",
       "      <td>NaN</td>\n",
       "      <td>NaN</td>\n",
       "      <td>14.0</td>\n",
       "      <td>NaN</td>\n",
       "      <td>NaN</td>\n",
       "      <td>0.0</td>\n",
       "      <td>The airship flew into a thunderstorm and encou...</td>\n",
       "    </tr>\n",
       "  </tbody>\n",
       "</table>\n",
       "</div>"
      ],
      "text/plain": [
       "         Date   Time                            Location  \\\n",
       "0  09/17/1908  17:18                 Fort Myer, Virginia   \n",
       "1  09/07/1909    NaN             Juvisy-sur-Orge, France   \n",
       "2  07/12/1912  06:30           Atlantic City, New Jersey   \n",
       "3  08/06/1913    NaN  Victoria, British Columbia, Canada   \n",
       "4  09/09/1913  18:30                  Over the North Sea   \n",
       "\n",
       "                 Operator Flight #          Route                 AC Type  \\\n",
       "0    Military - U.S. Army      NaN  Demonstration        Wright Flyer III   \n",
       "1                     NaN      NaN       Air show          Wright Byplane   \n",
       "2    Military - U.S. Navy      NaN    Test flight               Dirigible   \n",
       "3                 Private      NaN            NaN        Curtiss seaplane   \n",
       "4  Military - German Navy      NaN            NaN  Zeppelin L-1 (airship)   \n",
       "\n",
       "  Registration cn/ln  Aboard  Aboard Passangers  Aboard Crew  Fatalities  \\\n",
       "0          NaN     1     2.0                1.0          1.0         1.0   \n",
       "1          SC1   NaN     1.0                0.0          1.0         1.0   \n",
       "2          NaN   NaN     5.0                0.0          5.0         5.0   \n",
       "3          NaN   NaN     1.0                0.0          1.0         1.0   \n",
       "4          NaN   NaN    20.0                NaN          NaN        14.0   \n",
       "\n",
       "   Fatalities Passangers  Fatalities Crew  Ground  \\\n",
       "0                    1.0              0.0     0.0   \n",
       "1                    0.0              0.0     0.0   \n",
       "2                    0.0              5.0     0.0   \n",
       "3                    0.0              1.0     0.0   \n",
       "4                    NaN              NaN     0.0   \n",
       "\n",
       "                                             Summary  \n",
       "0  During a demonstration flight, a U.S. Army fly...  \n",
       "1  Eugene Lefebvre was the first pilot to ever be...  \n",
       "2  First U.S. dirigible Akron exploded just offsh...  \n",
       "3  The first fatal airplane accident in Canada oc...  \n",
       "4  The airship flew into a thunderstorm and encou...  "
      ]
     },
     "execution_count": 135,
     "metadata": {},
     "output_type": "execute_result"
    }
   ],
   "source": [
    "df.head(5) #"
   ]
  },
  {
   "cell_type": "markdown",
   "metadata": {},
   "source": [
    "### **Observaciones:** \n",
    "#### - Se nota la presencia de datos tipo \"NaN\" en varias filas y columnas del conjunto de datos. <br> - Los datos \"NaN\" son un problema para los algoritmos de regresión o clasificación en las etapas siguientes al pre-procesado. <br> - Los algoritmos requieren datos númericos y los \"NaN\" son tipo \"strings\".\n",
    "#### Posibles estrategias a seguir: <br> 1. Eliminación de los datos \"NaN\" del dataset. <br> 2. Sustitución de los datos \"NaN\" por los valores de la media o la mediana dependiendo de la cantidad de \"Outliers\"."
   ]
  },
  {
   "cell_type": "markdown",
   "metadata": {},
   "source": [
    "### - 5.3 Extraer información de las columnas (Etiquetas, índices y tipo de datos) presentes en el conjunto de datos\n",
    "``` df_columnas = df.columns ``` , ```df_index = df.index``` y ```df.dtypes```"
   ]
  },
  {
   "cell_type": "code",
   "execution_count": 136,
   "metadata": {},
   "outputs": [
    {
     "data": {
      "text/plain": [
       "Index(['Date', 'Time', 'Location', 'Operator', 'Flight #', 'Route', 'AC Type',\n",
       "       'Registration', 'cn/ln', 'Aboard', 'Aboard Passangers', 'Aboard Crew',\n",
       "       'Fatalities', 'Fatalities Passangers', 'Fatalities Crew', 'Ground',\n",
       "       'Summary'],\n",
       "      dtype='object')"
      ]
     },
     "execution_count": 136,
     "metadata": {},
     "output_type": "execute_result"
    }
   ],
   "source": [
    "df.columns"
   ]
  },
  {
   "cell_type": "code",
   "execution_count": 137,
   "metadata": {},
   "outputs": [
    {
     "data": {
      "text/plain": [
       "RangeIndex(start=0, stop=4967, step=1)"
      ]
     },
     "execution_count": 137,
     "metadata": {},
     "output_type": "execute_result"
    }
   ],
   "source": [
    "df.index "
   ]
  },
  {
   "cell_type": "code",
   "execution_count": 138,
   "metadata": {},
   "outputs": [
    {
     "data": {
      "text/plain": [
       "Date                      object\n",
       "Time                      object\n",
       "Location                  object\n",
       "Operator                  object\n",
       "Flight #                  object\n",
       "Route                     object\n",
       "AC Type                   object\n",
       "Registration              object\n",
       "cn/ln                     object\n",
       "Aboard                   float64\n",
       "Aboard Passangers        float64\n",
       "Aboard Crew              float64\n",
       "Fatalities               float64\n",
       "Fatalities Passangers    float64\n",
       "Fatalities Crew          float64\n",
       "Ground                   float64\n",
       "Summary                   object\n",
       "dtype: object"
      ]
     },
     "execution_count": 138,
     "metadata": {},
     "output_type": "execute_result"
    }
   ],
   "source": [
    "df.dtypes"
   ]
  },
  {
   "cell_type": "markdown",
   "metadata": {},
   "source": [
    "### - **Se modifican las etiquetas de las columnas del set de datos para una mejor manipulación**\n",
    "``` df.rename(columns={ 'Old Name1': 'New Name1', 'Old Name2': 'New Name2' }, inplace=True)```"
   ]
  },
  {
   "cell_type": "code",
   "execution_count": 139,
   "metadata": {},
   "outputs": [],
   "source": [
    "df.rename(columns={'Date': 'date', 'Time': 'time', 'Location': 'lcn', 'Operator': 'oper', 'Flight #': 'flt', 'Route': 'route',\n",
    "                   'AC Type': 'actype', 'Registration': 'reg', 'cn/ln': 'cnln','Aboard': 'aboard', 'Aboard Passangers': 'aboardpass',\n",
    "                   'Aboard Crew':'aboardcrew'}, inplace=True)\n",
    "df.rename(columns={'Fatalities': 'ftot','Fatalities Passangers': 'fpass', 'Fatalities Crew': 'fcrew'}, inplace=True)\n",
    "df.rename(columns={'Ground': 'gnd','Summary': 'summary'}, inplace=True)"
   ]
  },
  {
   "cell_type": "code",
   "execution_count": 140,
   "metadata": {},
   "outputs": [
    {
     "data": {
      "text/plain": [
       "Index(['date', 'time', 'lcn', 'oper', 'flt', 'route', 'actype', 'reg', 'cnln',\n",
       "       'aboard', 'aboardpass', 'aboardcrew', 'ftot', 'fpass', 'fcrew', 'gnd',\n",
       "       'summary'],\n",
       "      dtype='object')"
      ]
     },
     "execution_count": 140,
     "metadata": {},
     "output_type": "execute_result"
    }
   ],
   "source": [
    "df.columns"
   ]
  },
  {
   "cell_type": "markdown",
   "metadata": {},
   "source": [
    "### - Se determina la cantidad de datos faltantes (\"NaN\") en cada columna del set de datos\n",
    "**Sintáxis:** \n",
    "```df.aggregate(lambda x: x.isna().sum() )```<br>\n",
    "Una opción para una columna es: ```df.{etiqueta_columna}.isnull().sum()```"
   ]
  },
  {
   "cell_type": "code",
   "execution_count": 141,
   "metadata": {},
   "outputs": [
    {
     "data": {
      "text/plain": [
       "date             0\n",
       "time          1510\n",
       "lcn              4\n",
       "oper            10\n",
       "flt           3652\n",
       "route          774\n",
       "actype          15\n",
       "reg            273\n",
       "cnln           668\n",
       "aboard          18\n",
       "aboardpass     229\n",
       "aboardcrew     226\n",
       "ftot             8\n",
       "fpass          242\n",
       "fcrew          241\n",
       "gnd             41\n",
       "summary         64\n",
       "dtype: int64"
      ]
     },
     "execution_count": 141,
     "metadata": {},
     "output_type": "execute_result"
    }
   ],
   "source": [
    "df.aggregate(lambda x: x.isna().sum() ) # Definir una Función Lambda"
   ]
  },
  {
   "cell_type": "markdown",
   "metadata": {},
   "source": [
    "## Tabla 1 - Valores faltantes en el Conjunto de datos (4,967 x 17).\n",
    "\n",
    "|Etiqueta de Columna:    | Cantidad de Datos Faltantes (NaN) | % Set de datos| Estrategia a seguir |\n",
    "|------------------------|----------------------|---------------|----------------------------------| \n",
    "| 1. index               | 0                    |  0.0%         | n/a                              |    \n",
    "| 2. date                | 0                    |  0.0%         | n/a                              |\n",
    "| 3. time                | 1510                 | 30.4%         | Eliminar datos categóricos       |\n",
    "| 4. location            | 4                    |  0.1%         | Eliminar datos                   |\n",
    "| 5. operator            | 10                   |  0.2%         | Eliminar datos                   |\n",
    "| 6. route               | 774                  | 15.6%         | Eliminar datos                   |\n",
    "| 7. actype              | 15                   |  0.3%         | Eliminar datos                   |\n",
    "| 8. registration        | 273                  |  5.5%         | Eliminar datos categóricos       |\n",
    "| 9. cnln                | 668                  | 13.4%         | Eliminar datos categóricos       |\n",
    "| 10. aboard             | 18                   |  0.4%         | Usar mediana                     |    \n",
    "| 11. aboardpass         | 229                  |  4.6%         | Usar mediana                     |\n",
    "| 12. aboardcrew         | 226                  |  4.5%         | Usar mediana                     |\n",
    "| 13. ftot               | 8                    |  0.2%         | Usar mediana                     |\n",
    "| 14. fpass              | 242                  |  4.9%         | Usar mediana                     |\n",
    "| 15. fcrew              | 241                  |  4.8%         | Usar mediana                     |\n",
    "| 16. gnd                | 41                   |  0.8%         | Usar mediana                     |\n",
    "| 17. summary            | 64                   |  1.3%         | Eliminar datos                   |  "
   ]
  },
  {
   "cell_type": "markdown",
   "metadata": {},
   "source": [
    "### - Se determina la mediana de los datos en columnas con \"NaN\"\n",
    "**Sintáxis:** \n",
    "```df.{etiqueta_columna}.median()```"
   ]
  },
  {
   "cell_type": "code",
   "execution_count": 142,
   "metadata": {},
   "outputs": [],
   "source": [
    "median_aboard = df.aboard.median()\n",
    "median_aboardpass = df.aboardpass.median()\n",
    "median_aboardcrew = df.aboardcrew.median()\n",
    "median_ftot = df.ftot.median()\n",
    "median_fpass = df.fpass.median()\n",
    "median_fcrew = df.fcrew.median()\n",
    "median_gnd = df.gnd.median()"
   ]
  },
  {
   "cell_type": "markdown",
   "metadata": {},
   "source": [
    "### - Se sustituyen los valores \"NaN\" por el valor de la mediana de los datos en cada columna. Con el uso de la mediana se busca eliminar el efecto de posibles outliers.\n",
    "**Sintáxis:** \n",
    "```df.{etiqueta_columna}.fillna(median_{etiqueta},inplace = True)```"
   ]
  },
  {
   "cell_type": "code",
   "execution_count": 143,
   "metadata": {},
   "outputs": [],
   "source": [
    "df.aboard.fillna(median_aboard,inplace = True)\n",
    "df.aboardpass.fillna(median_aboardpass,inplace = True)\n",
    "df.aboardcrew.fillna(median_aboardcrew,inplace = True)\n",
    "df.ftot.fillna(median_ftot,inplace = True)\n",
    "df.fpass.fillna(median_fpass,inplace = True)\n",
    "df.fcrew.fillna(median_fcrew,inplace = True)\n",
    "df.gnd.fillna(median_gnd,inplace = True)"
   ]
  },
  {
   "cell_type": "markdown",
   "metadata": {},
   "source": [
    "### - Se obtienen estadísticas descriptivas del set de datos.\n",
    "**Sintáxis:** \n",
    "```df.describe(include='all').T```. Donde \".T\" transpone los datos."
   ]
  },
  {
   "cell_type": "code",
   "execution_count": 144,
   "metadata": {},
   "outputs": [
    {
     "data": {
      "text/html": [
       "<div>\n",
       "<style scoped>\n",
       "    .dataframe tbody tr th:only-of-type {\n",
       "        vertical-align: middle;\n",
       "    }\n",
       "\n",
       "    .dataframe tbody tr th {\n",
       "        vertical-align: top;\n",
       "    }\n",
       "\n",
       "    .dataframe thead th {\n",
       "        text-align: right;\n",
       "    }\n",
       "</style>\n",
       "<table border=\"1\" class=\"dataframe\">\n",
       "  <thead>\n",
       "    <tr style=\"text-align: right;\">\n",
       "      <th></th>\n",
       "      <th>count</th>\n",
       "      <th>unique</th>\n",
       "      <th>top</th>\n",
       "      <th>freq</th>\n",
       "      <th>mean</th>\n",
       "      <th>std</th>\n",
       "      <th>min</th>\n",
       "      <th>25%</th>\n",
       "      <th>50%</th>\n",
       "      <th>75%</th>\n",
       "      <th>max</th>\n",
       "    </tr>\n",
       "  </thead>\n",
       "  <tbody>\n",
       "    <tr>\n",
       "      <th>date</th>\n",
       "      <td>4967</td>\n",
       "      <td>4539</td>\n",
       "      <td>09/11/2001</td>\n",
       "      <td>4</td>\n",
       "      <td>NaN</td>\n",
       "      <td>NaN</td>\n",
       "      <td>NaN</td>\n",
       "      <td>NaN</td>\n",
       "      <td>NaN</td>\n",
       "      <td>NaN</td>\n",
       "      <td>NaN</td>\n",
       "    </tr>\n",
       "    <tr>\n",
       "      <th>time</th>\n",
       "      <td>3457</td>\n",
       "      <td>1062</td>\n",
       "      <td>15:00</td>\n",
       "      <td>37</td>\n",
       "      <td>NaN</td>\n",
       "      <td>NaN</td>\n",
       "      <td>NaN</td>\n",
       "      <td>NaN</td>\n",
       "      <td>NaN</td>\n",
       "      <td>NaN</td>\n",
       "      <td>NaN</td>\n",
       "    </tr>\n",
       "    <tr>\n",
       "      <th>lcn</th>\n",
       "      <td>4963</td>\n",
       "      <td>4101</td>\n",
       "      <td>Moscow, Russia</td>\n",
       "      <td>17</td>\n",
       "      <td>NaN</td>\n",
       "      <td>NaN</td>\n",
       "      <td>NaN</td>\n",
       "      <td>NaN</td>\n",
       "      <td>NaN</td>\n",
       "      <td>NaN</td>\n",
       "      <td>NaN</td>\n",
       "    </tr>\n",
       "    <tr>\n",
       "      <th>oper</th>\n",
       "      <td>4957</td>\n",
       "      <td>2242</td>\n",
       "      <td>Aeroflot</td>\n",
       "      <td>255</td>\n",
       "      <td>NaN</td>\n",
       "      <td>NaN</td>\n",
       "      <td>NaN</td>\n",
       "      <td>NaN</td>\n",
       "      <td>NaN</td>\n",
       "      <td>NaN</td>\n",
       "      <td>NaN</td>\n",
       "    </tr>\n",
       "    <tr>\n",
       "      <th>flt</th>\n",
       "      <td>1315</td>\n",
       "      <td>883</td>\n",
       "      <td>-</td>\n",
       "      <td>36</td>\n",
       "      <td>NaN</td>\n",
       "      <td>NaN</td>\n",
       "      <td>NaN</td>\n",
       "      <td>NaN</td>\n",
       "      <td>NaN</td>\n",
       "      <td>NaN</td>\n",
       "      <td>NaN</td>\n",
       "    </tr>\n",
       "    <tr>\n",
       "      <th>route</th>\n",
       "      <td>4193</td>\n",
       "      <td>3800</td>\n",
       "      <td>Training</td>\n",
       "      <td>92</td>\n",
       "      <td>NaN</td>\n",
       "      <td>NaN</td>\n",
       "      <td>NaN</td>\n",
       "      <td>NaN</td>\n",
       "      <td>NaN</td>\n",
       "      <td>NaN</td>\n",
       "      <td>NaN</td>\n",
       "    </tr>\n",
       "    <tr>\n",
       "      <th>actype</th>\n",
       "      <td>4952</td>\n",
       "      <td>2447</td>\n",
       "      <td>Douglas DC-3</td>\n",
       "      <td>333</td>\n",
       "      <td>NaN</td>\n",
       "      <td>NaN</td>\n",
       "      <td>NaN</td>\n",
       "      <td>NaN</td>\n",
       "      <td>NaN</td>\n",
       "      <td>NaN</td>\n",
       "      <td>NaN</td>\n",
       "    </tr>\n",
       "    <tr>\n",
       "      <th>reg</th>\n",
       "      <td>4694</td>\n",
       "      <td>4661</td>\n",
       "      <td>49</td>\n",
       "      <td>3</td>\n",
       "      <td>NaN</td>\n",
       "      <td>NaN</td>\n",
       "      <td>NaN</td>\n",
       "      <td>NaN</td>\n",
       "      <td>NaN</td>\n",
       "      <td>NaN</td>\n",
       "      <td>NaN</td>\n",
       "    </tr>\n",
       "    <tr>\n",
       "      <th>cnln</th>\n",
       "      <td>4299</td>\n",
       "      <td>3869</td>\n",
       "      <td>4</td>\n",
       "      <td>8</td>\n",
       "      <td>NaN</td>\n",
       "      <td>NaN</td>\n",
       "      <td>NaN</td>\n",
       "      <td>NaN</td>\n",
       "      <td>NaN</td>\n",
       "      <td>NaN</td>\n",
       "      <td>NaN</td>\n",
       "    </tr>\n",
       "    <tr>\n",
       "      <th>aboard</th>\n",
       "      <td>4967</td>\n",
       "      <td>NaN</td>\n",
       "      <td>NaN</td>\n",
       "      <td>NaN</td>\n",
       "      <td>31.0336</td>\n",
       "      <td>45.3649</td>\n",
       "      <td>0</td>\n",
       "      <td>7</td>\n",
       "      <td>16</td>\n",
       "      <td>35</td>\n",
       "      <td>644</td>\n",
       "    </tr>\n",
       "    <tr>\n",
       "      <th>aboardpass</th>\n",
       "      <td>4967</td>\n",
       "      <td>NaN</td>\n",
       "      <td>NaN</td>\n",
       "      <td>NaN</td>\n",
       "      <td>26.2118</td>\n",
       "      <td>43.0973</td>\n",
       "      <td>0</td>\n",
       "      <td>3</td>\n",
       "      <td>12</td>\n",
       "      <td>29</td>\n",
       "      <td>614</td>\n",
       "    </tr>\n",
       "    <tr>\n",
       "      <th>aboardcrew</th>\n",
       "      <td>4967</td>\n",
       "      <td>NaN</td>\n",
       "      <td>NaN</td>\n",
       "      <td>NaN</td>\n",
       "      <td>4.45782</td>\n",
       "      <td>3.41017</td>\n",
       "      <td>0</td>\n",
       "      <td>2</td>\n",
       "      <td>4</td>\n",
       "      <td>5</td>\n",
       "      <td>61</td>\n",
       "    </tr>\n",
       "    <tr>\n",
       "      <th>ftot</th>\n",
       "      <td>4967</td>\n",
       "      <td>NaN</td>\n",
       "      <td>NaN</td>\n",
       "      <td>NaN</td>\n",
       "      <td>22.3199</td>\n",
       "      <td>35.0009</td>\n",
       "      <td>0</td>\n",
       "      <td>4</td>\n",
       "      <td>11</td>\n",
       "      <td>25</td>\n",
       "      <td>583</td>\n",
       "    </tr>\n",
       "    <tr>\n",
       "      <th>fpass</th>\n",
       "      <td>4967</td>\n",
       "      <td>NaN</td>\n",
       "      <td>NaN</td>\n",
       "      <td>NaN</td>\n",
       "      <td>18.4808</td>\n",
       "      <td>33.3577</td>\n",
       "      <td>0</td>\n",
       "      <td>1</td>\n",
       "      <td>8</td>\n",
       "      <td>20</td>\n",
       "      <td>560</td>\n",
       "    </tr>\n",
       "    <tr>\n",
       "      <th>fcrew</th>\n",
       "      <td>4967</td>\n",
       "      <td>NaN</td>\n",
       "      <td>NaN</td>\n",
       "      <td>NaN</td>\n",
       "      <td>3.55124</td>\n",
       "      <td>3.09485</td>\n",
       "      <td>0</td>\n",
       "      <td>2</td>\n",
       "      <td>3</td>\n",
       "      <td>5</td>\n",
       "      <td>46</td>\n",
       "    </tr>\n",
       "    <tr>\n",
       "      <th>gnd</th>\n",
       "      <td>4967</td>\n",
       "      <td>NaN</td>\n",
       "      <td>NaN</td>\n",
       "      <td>NaN</td>\n",
       "      <td>1.71391</td>\n",
       "      <td>55.4787</td>\n",
       "      <td>0</td>\n",
       "      <td>0</td>\n",
       "      <td>0</td>\n",
       "      <td>0</td>\n",
       "      <td>2750</td>\n",
       "    </tr>\n",
       "    <tr>\n",
       "      <th>summary</th>\n",
       "      <td>4903</td>\n",
       "      <td>4808</td>\n",
       "      <td>Crashed under unknown circumstances.</td>\n",
       "      <td>9</td>\n",
       "      <td>NaN</td>\n",
       "      <td>NaN</td>\n",
       "      <td>NaN</td>\n",
       "      <td>NaN</td>\n",
       "      <td>NaN</td>\n",
       "      <td>NaN</td>\n",
       "      <td>NaN</td>\n",
       "    </tr>\n",
       "  </tbody>\n",
       "</table>\n",
       "</div>"
      ],
      "text/plain": [
       "           count unique                                   top freq     mean  \\\n",
       "date        4967   4539                            09/11/2001    4      NaN   \n",
       "time        3457   1062                                 15:00   37      NaN   \n",
       "lcn         4963   4101                        Moscow, Russia   17      NaN   \n",
       "oper        4957   2242                              Aeroflot  255      NaN   \n",
       "flt         1315    883                                     -   36      NaN   \n",
       "route       4193   3800                              Training   92      NaN   \n",
       "actype      4952   2447                          Douglas DC-3  333      NaN   \n",
       "reg         4694   4661                                    49    3      NaN   \n",
       "cnln        4299   3869                                     4    8      NaN   \n",
       "aboard      4967    NaN                                   NaN  NaN  31.0336   \n",
       "aboardpass  4967    NaN                                   NaN  NaN  26.2118   \n",
       "aboardcrew  4967    NaN                                   NaN  NaN  4.45782   \n",
       "ftot        4967    NaN                                   NaN  NaN  22.3199   \n",
       "fpass       4967    NaN                                   NaN  NaN  18.4808   \n",
       "fcrew       4967    NaN                                   NaN  NaN  3.55124   \n",
       "gnd         4967    NaN                                   NaN  NaN  1.71391   \n",
       "summary     4903   4808  Crashed under unknown circumstances.    9      NaN   \n",
       "\n",
       "                std  min  25%  50%  75%   max  \n",
       "date            NaN  NaN  NaN  NaN  NaN   NaN  \n",
       "time            NaN  NaN  NaN  NaN  NaN   NaN  \n",
       "lcn             NaN  NaN  NaN  NaN  NaN   NaN  \n",
       "oper            NaN  NaN  NaN  NaN  NaN   NaN  \n",
       "flt             NaN  NaN  NaN  NaN  NaN   NaN  \n",
       "route           NaN  NaN  NaN  NaN  NaN   NaN  \n",
       "actype          NaN  NaN  NaN  NaN  NaN   NaN  \n",
       "reg             NaN  NaN  NaN  NaN  NaN   NaN  \n",
       "cnln            NaN  NaN  NaN  NaN  NaN   NaN  \n",
       "aboard      45.3649    0    7   16   35   644  \n",
       "aboardpass  43.0973    0    3   12   29   614  \n",
       "aboardcrew  3.41017    0    2    4    5    61  \n",
       "ftot        35.0009    0    4   11   25   583  \n",
       "fpass       33.3577    0    1    8   20   560  \n",
       "fcrew       3.09485    0    2    3    5    46  \n",
       "gnd         55.4787    0    0    0    0  2750  \n",
       "summary         NaN  NaN  NaN  NaN  NaN   NaN  "
      ]
     },
     "execution_count": 144,
     "metadata": {},
     "output_type": "execute_result"
    }
   ],
   "source": [
    "df.describe(include='all').T"
   ]
  },
  {
   "cell_type": "markdown",
   "metadata": {},
   "source": [
    "### - **Se importa librería gráfica seaborn.**"
   ]
  },
  {
   "cell_type": "code",
   "execution_count": 145,
   "metadata": {},
   "outputs": [],
   "source": [
    "import seaborn as sns"
   ]
  },
  {
   "cell_type": "markdown",
   "metadata": {},
   "source": [
    "### - Se grafica la distribución de fallecimientos totales vs fallecimientos por tipo de población."
   ]
  },
  {
   "cell_type": "code",
   "execution_count": 146,
   "metadata": {},
   "outputs": [
    {
     "data": {
      "text/plain": [
       "<function matplotlib.pyplot.show(*args, **kw)>"
      ]
     },
     "execution_count": 146,
     "metadata": {},
     "output_type": "execute_result"
    },
    {
     "data": {
      "image/png": "[encoded data removed]",
      "text/plain": [
       "<Figure size 1440x720 with 4 Axes>"
      ]
     },
     "metadata": {
      "needs_background": "light"
     },
     "output_type": "display_data"
    }
   ],
   "source": [
    "plt.rcParams[\"figure.figsize\"] = (20,10)\n",
    "#plt.hist(df.ftot)\n",
    "fig, (ax1, ax2, ax3,ax4) = plt.subplots(1, 4)\n",
    "sns.distplot(df.ftot, ax=ax1)\n",
    "sns.distplot(df.fpass, ax=ax2)\n",
    "sns.distplot(df.fcrew, ax=ax3)\n",
    "sns.distplot(df.gnd, ax=ax4)\n",
    "plt.show"
   ]
  },
  {
   "cell_type": "markdown",
   "metadata": {},
   "source": [
    "## - **Se Eliminan datos \"NaN\" de las columnas del conjunto de datos** "
   ]
  },
  {
   "cell_type": "code",
   "execution_count": 147,
   "metadata": {},
   "outputs": [
    {
     "name": "stdout",
     "output_type": "stream",
     "text": [
      "Tamaño Original del conjunto de datos:  (4967, 17)\n"
     ]
    }
   ],
   "source": [
    "print('Tamaño Original del conjunto de datos: ', df.shape)"
   ]
  },
  {
   "cell_type": "code",
   "execution_count": 148,
   "metadata": {},
   "outputs": [
    {
     "data": {
      "text/plain": [
       "(4967, 8)"
      ]
     },
     "execution_count": 148,
     "metadata": {},
     "output_type": "execute_result"
    }
   ],
   "source": [
    "df_drop_na = df.dropna(axis='columns', how='any')\n",
    "df_drop_na.shape\n",
    "# print('Tamaño del conjunto de datos al eliminar filas con datos \"NaN: ', df_drop_na.shape)"
   ]
  },
  {
   "cell_type": "markdown",
   "metadata": {},
   "source": [
    "### **Nota:** Se pueden re-inicializar los índices del nuevo conjunto de datos por medio de:\n",
    "```dataframe.reset_index()```"
   ]
  },
  {
   "cell_type": "code",
   "execution_count": 149,
   "metadata": {},
   "outputs": [
    {
     "data": {
      "text/html": [
       "<div>\n",
       "<style scoped>\n",
       "    .dataframe tbody tr th:only-of-type {\n",
       "        vertical-align: middle;\n",
       "    }\n",
       "\n",
       "    .dataframe tbody tr th {\n",
       "        vertical-align: top;\n",
       "    }\n",
       "\n",
       "    .dataframe thead th {\n",
       "        text-align: right;\n",
       "    }\n",
       "</style>\n",
       "<table border=\"1\" class=\"dataframe\">\n",
       "  <thead>\n",
       "    <tr style=\"text-align: right;\">\n",
       "      <th></th>\n",
       "      <th>index</th>\n",
       "      <th>date</th>\n",
       "      <th>aboard</th>\n",
       "      <th>aboardpass</th>\n",
       "      <th>aboardcrew</th>\n",
       "      <th>ftot</th>\n",
       "      <th>fpass</th>\n",
       "      <th>fcrew</th>\n",
       "      <th>gnd</th>\n",
       "    </tr>\n",
       "  </thead>\n",
       "  <tbody>\n",
       "    <tr>\n",
       "      <th>0</th>\n",
       "      <td>0</td>\n",
       "      <td>09/17/1908</td>\n",
       "      <td>2.0</td>\n",
       "      <td>1.0</td>\n",
       "      <td>1.0</td>\n",
       "      <td>1.0</td>\n",
       "      <td>1.0</td>\n",
       "      <td>0.0</td>\n",
       "      <td>0.0</td>\n",
       "    </tr>\n",
       "    <tr>\n",
       "      <th>1</th>\n",
       "      <td>1</td>\n",
       "      <td>09/07/1909</td>\n",
       "      <td>1.0</td>\n",
       "      <td>0.0</td>\n",
       "      <td>1.0</td>\n",
       "      <td>1.0</td>\n",
       "      <td>0.0</td>\n",
       "      <td>0.0</td>\n",
       "      <td>0.0</td>\n",
       "    </tr>\n",
       "    <tr>\n",
       "      <th>2</th>\n",
       "      <td>2</td>\n",
       "      <td>07/12/1912</td>\n",
       "      <td>5.0</td>\n",
       "      <td>0.0</td>\n",
       "      <td>5.0</td>\n",
       "      <td>5.0</td>\n",
       "      <td>0.0</td>\n",
       "      <td>5.0</td>\n",
       "      <td>0.0</td>\n",
       "    </tr>\n",
       "    <tr>\n",
       "      <th>3</th>\n",
       "      <td>3</td>\n",
       "      <td>08/06/1913</td>\n",
       "      <td>1.0</td>\n",
       "      <td>0.0</td>\n",
       "      <td>1.0</td>\n",
       "      <td>1.0</td>\n",
       "      <td>0.0</td>\n",
       "      <td>1.0</td>\n",
       "      <td>0.0</td>\n",
       "    </tr>\n",
       "    <tr>\n",
       "      <th>4</th>\n",
       "      <td>4</td>\n",
       "      <td>09/09/1913</td>\n",
       "      <td>20.0</td>\n",
       "      <td>12.0</td>\n",
       "      <td>4.0</td>\n",
       "      <td>14.0</td>\n",
       "      <td>8.0</td>\n",
       "      <td>3.0</td>\n",
       "      <td>0.0</td>\n",
       "    </tr>\n",
       "    <tr>\n",
       "      <th>...</th>\n",
       "      <td>...</td>\n",
       "      <td>...</td>\n",
       "      <td>...</td>\n",
       "      <td>...</td>\n",
       "      <td>...</td>\n",
       "      <td>...</td>\n",
       "      <td>...</td>\n",
       "      <td>...</td>\n",
       "      <td>...</td>\n",
       "    </tr>\n",
       "    <tr>\n",
       "      <th>4962</th>\n",
       "      <td>4962</td>\n",
       "      <td>04/16/2019</td>\n",
       "      <td>6.0</td>\n",
       "      <td>5.0</td>\n",
       "      <td>1.0</td>\n",
       "      <td>6.0</td>\n",
       "      <td>5.0</td>\n",
       "      <td>1.0</td>\n",
       "      <td>0.0</td>\n",
       "    </tr>\n",
       "    <tr>\n",
       "      <th>4963</th>\n",
       "      <td>4963</td>\n",
       "      <td>05/05/2019</td>\n",
       "      <td>13.0</td>\n",
       "      <td>11.0</td>\n",
       "      <td>2.0</td>\n",
       "      <td>13.0</td>\n",
       "      <td>11.0</td>\n",
       "      <td>2.0</td>\n",
       "      <td>0.0</td>\n",
       "    </tr>\n",
       "    <tr>\n",
       "      <th>4964</th>\n",
       "      <td>4964</td>\n",
       "      <td>05/05/2019</td>\n",
       "      <td>78.0</td>\n",
       "      <td>73.0</td>\n",
       "      <td>5.0</td>\n",
       "      <td>41.0</td>\n",
       "      <td>40.0</td>\n",
       "      <td>1.0</td>\n",
       "      <td>0.0</td>\n",
       "    </tr>\n",
       "    <tr>\n",
       "      <th>4965</th>\n",
       "      <td>4965</td>\n",
       "      <td>06/03/2019</td>\n",
       "      <td>13.0</td>\n",
       "      <td>5.0</td>\n",
       "      <td>8.0</td>\n",
       "      <td>13.0</td>\n",
       "      <td>5.0</td>\n",
       "      <td>8.0</td>\n",
       "      <td>0.0</td>\n",
       "    </tr>\n",
       "    <tr>\n",
       "      <th>4966</th>\n",
       "      <td>4966</td>\n",
       "      <td>07/30/2019</td>\n",
       "      <td>5.0</td>\n",
       "      <td>0.0</td>\n",
       "      <td>5.0</td>\n",
       "      <td>5.0</td>\n",
       "      <td>0.0</td>\n",
       "      <td>5.0</td>\n",
       "      <td>14.0</td>\n",
       "    </tr>\n",
       "  </tbody>\n",
       "</table>\n",
       "<p>4967 rows × 9 columns</p>\n",
       "</div>"
      ],
      "text/plain": [
       "      index        date  aboard  aboardpass  aboardcrew  ftot  fpass  fcrew  \\\n",
       "0         0  09/17/1908     2.0         1.0         1.0   1.0    1.0    0.0   \n",
       "1         1  09/07/1909     1.0         0.0         1.0   1.0    0.0    0.0   \n",
       "2         2  07/12/1912     5.0         0.0         5.0   5.0    0.0    5.0   \n",
       "3         3  08/06/1913     1.0         0.0         1.0   1.0    0.0    1.0   \n",
       "4         4  09/09/1913    20.0        12.0         4.0  14.0    8.0    3.0   \n",
       "...     ...         ...     ...         ...         ...   ...    ...    ...   \n",
       "4962   4962  04/16/2019     6.0         5.0         1.0   6.0    5.0    1.0   \n",
       "4963   4963  05/05/2019    13.0        11.0         2.0  13.0   11.0    2.0   \n",
       "4964   4964  05/05/2019    78.0        73.0         5.0  41.0   40.0    1.0   \n",
       "4965   4965  06/03/2019    13.0         5.0         8.0  13.0    5.0    8.0   \n",
       "4966   4966  07/30/2019     5.0         0.0         5.0   5.0    0.0    5.0   \n",
       "\n",
       "       gnd  \n",
       "0      0.0  \n",
       "1      0.0  \n",
       "2      0.0  \n",
       "3      0.0  \n",
       "4      0.0  \n",
       "...    ...  \n",
       "4962   0.0  \n",
       "4963   0.0  \n",
       "4964   0.0  \n",
       "4965   0.0  \n",
       "4966  14.0  \n",
       "\n",
       "[4967 rows x 9 columns]"
      ]
     },
     "execution_count": 149,
     "metadata": {},
     "output_type": "execute_result"
    }
   ],
   "source": [
    "df_drop_na.reset_index()"
   ]
  },
  {
   "cell_type": "markdown",
   "metadata": {},
   "source": [
    "### - Se construye la matriz ```X``` y el vector columna ```Y```. "
   ]
  },
  {
   "cell_type": "code",
   "execution_count": 150,
   "metadata": {},
   "outputs": [],
   "source": [
    "import pandas as pd\n",
    "X = df_drop_na.loc[:, ['aboard','aboardpass','aboardcrew','fpass','fcrew','gnd','ftot']]\n",
    "Y = df_drop_na.loc[:, ['ftot']]"
   ]
  },
  {
   "cell_type": "code",
   "execution_count": 151,
   "metadata": {},
   "outputs": [
    {
     "name": "stdout",
     "output_type": "stream",
     "text": [
      "X matrix (Features/Samples). Size =  (4967, 7)\n"
     ]
    },
    {
     "data": {
      "text/html": [
       "<div>\n",
       "<style scoped>\n",
       "    .dataframe tbody tr th:only-of-type {\n",
       "        vertical-align: middle;\n",
       "    }\n",
       "\n",
       "    .dataframe tbody tr th {\n",
       "        vertical-align: top;\n",
       "    }\n",
       "\n",
       "    .dataframe thead th {\n",
       "        text-align: right;\n",
       "    }\n",
       "</style>\n",
       "<table border=\"1\" class=\"dataframe\">\n",
       "  <thead>\n",
       "    <tr style=\"text-align: right;\">\n",
       "      <th></th>\n",
       "      <th>aboard</th>\n",
       "      <th>aboardpass</th>\n",
       "      <th>aboardcrew</th>\n",
       "      <th>fpass</th>\n",
       "      <th>fcrew</th>\n",
       "      <th>gnd</th>\n",
       "      <th>ftot</th>\n",
       "    </tr>\n",
       "  </thead>\n",
       "  <tbody>\n",
       "    <tr>\n",
       "      <th>0</th>\n",
       "      <td>2.0</td>\n",
       "      <td>1.0</td>\n",
       "      <td>1.0</td>\n",
       "      <td>1.0</td>\n",
       "      <td>0.0</td>\n",
       "      <td>0.0</td>\n",
       "      <td>1.0</td>\n",
       "    </tr>\n",
       "    <tr>\n",
       "      <th>1</th>\n",
       "      <td>1.0</td>\n",
       "      <td>0.0</td>\n",
       "      <td>1.0</td>\n",
       "      <td>0.0</td>\n",
       "      <td>0.0</td>\n",
       "      <td>0.0</td>\n",
       "      <td>1.0</td>\n",
       "    </tr>\n",
       "    <tr>\n",
       "      <th>2</th>\n",
       "      <td>5.0</td>\n",
       "      <td>0.0</td>\n",
       "      <td>5.0</td>\n",
       "      <td>0.0</td>\n",
       "      <td>5.0</td>\n",
       "      <td>0.0</td>\n",
       "      <td>5.0</td>\n",
       "    </tr>\n",
       "    <tr>\n",
       "      <th>3</th>\n",
       "      <td>1.0</td>\n",
       "      <td>0.0</td>\n",
       "      <td>1.0</td>\n",
       "      <td>0.0</td>\n",
       "      <td>1.0</td>\n",
       "      <td>0.0</td>\n",
       "      <td>1.0</td>\n",
       "    </tr>\n",
       "    <tr>\n",
       "      <th>4</th>\n",
       "      <td>20.0</td>\n",
       "      <td>12.0</td>\n",
       "      <td>4.0</td>\n",
       "      <td>8.0</td>\n",
       "      <td>3.0</td>\n",
       "      <td>0.0</td>\n",
       "      <td>14.0</td>\n",
       "    </tr>\n",
       "  </tbody>\n",
       "</table>\n",
       "</div>"
      ],
      "text/plain": [
       "   aboard  aboardpass  aboardcrew  fpass  fcrew  gnd  ftot\n",
       "0     2.0         1.0         1.0    1.0    0.0  0.0   1.0\n",
       "1     1.0         0.0         1.0    0.0    0.0  0.0   1.0\n",
       "2     5.0         0.0         5.0    0.0    5.0  0.0   5.0\n",
       "3     1.0         0.0         1.0    0.0    1.0  0.0   1.0\n",
       "4    20.0        12.0         4.0    8.0    3.0  0.0  14.0"
      ]
     },
     "execution_count": 151,
     "metadata": {},
     "output_type": "execute_result"
    }
   ],
   "source": [
    "print('X matrix (Features/Samples). Size = ', X.shape)\n",
    "X.head(5)"
   ]
  },
  {
   "cell_type": "code",
   "execution_count": 152,
   "metadata": {},
   "outputs": [
    {
     "name": "stdout",
     "output_type": "stream",
     "text": [
      "Y column vector (Target). Size =  (4967, 1)\n"
     ]
    },
    {
     "data": {
      "text/html": [
       "<div>\n",
       "<style scoped>\n",
       "    .dataframe tbody tr th:only-of-type {\n",
       "        vertical-align: middle;\n",
       "    }\n",
       "\n",
       "    .dataframe tbody tr th {\n",
       "        vertical-align: top;\n",
       "    }\n",
       "\n",
       "    .dataframe thead th {\n",
       "        text-align: right;\n",
       "    }\n",
       "</style>\n",
       "<table border=\"1\" class=\"dataframe\">\n",
       "  <thead>\n",
       "    <tr style=\"text-align: right;\">\n",
       "      <th></th>\n",
       "      <th>ftot</th>\n",
       "    </tr>\n",
       "  </thead>\n",
       "  <tbody>\n",
       "    <tr>\n",
       "      <th>4962</th>\n",
       "      <td>6.0</td>\n",
       "    </tr>\n",
       "    <tr>\n",
       "      <th>4963</th>\n",
       "      <td>13.0</td>\n",
       "    </tr>\n",
       "    <tr>\n",
       "      <th>4964</th>\n",
       "      <td>41.0</td>\n",
       "    </tr>\n",
       "    <tr>\n",
       "      <th>4965</th>\n",
       "      <td>13.0</td>\n",
       "    </tr>\n",
       "    <tr>\n",
       "      <th>4966</th>\n",
       "      <td>5.0</td>\n",
       "    </tr>\n",
       "  </tbody>\n",
       "</table>\n",
       "</div>"
      ],
      "text/plain": [
       "      ftot\n",
       "4962   6.0\n",
       "4963  13.0\n",
       "4964  41.0\n",
       "4965  13.0\n",
       "4966   5.0"
      ]
     },
     "execution_count": 152,
     "metadata": {},
     "output_type": "execute_result"
    }
   ],
   "source": [
    "print('Y column vector (Target). Size = ', Y.shape)\n",
    "Y.tail(5)"
   ]
  },
  {
   "cell_type": "markdown",
   "metadata": {},
   "source": [
    "## - **Se normalizan los datos del subconjunto de datos de interés.**"
   ]
  },
  {
   "cell_type": "code",
   "execution_count": 153,
   "metadata": {},
   "outputs": [],
   "source": [
    "def normalize(dataset):\n",
    "    dataNorm = ((dataset-dataset.min())/(dataset.max()-dataset.min()))*10\n",
    "    return dataNorm "
   ]
  },
  {
   "cell_type": "code",
   "execution_count": 154,
   "metadata": {},
   "outputs": [
    {
     "name": "stdout",
     "output_type": "stream",
     "text": [
      "X_normalized = \n",
      " (4967, 7)\n",
      "Y_normalized = \n",
      " (4967, 1)\n"
     ]
    }
   ],
   "source": [
    "X = normalize(X)\n",
    "Y = normalize(Y)\n",
    "print('X_normalized = \\n', X.shape)\n",
    "print('Y_normalized = \\n', Y.shape)"
   ]
  },
  {
   "cell_type": "code",
   "execution_count": 155,
   "metadata": {},
   "outputs": [],
   "source": [
    "X.to_csv('X.csv')\n",
    "Y.to_csv('Y.csv')"
   ]
  },
  {
   "cell_type": "markdown",
   "metadata": {},
   "source": [
    "### - **Se obtienen estadísticas descriptivas de X y Y.**"
   ]
  },
  {
   "cell_type": "code",
   "execution_count": 156,
   "metadata": {},
   "outputs": [
    {
     "data": {
      "text/html": [
       "<div>\n",
       "<style scoped>\n",
       "    .dataframe tbody tr th:only-of-type {\n",
       "        vertical-align: middle;\n",
       "    }\n",
       "\n",
       "    .dataframe tbody tr th {\n",
       "        vertical-align: top;\n",
       "    }\n",
       "\n",
       "    .dataframe thead th {\n",
       "        text-align: right;\n",
       "    }\n",
       "</style>\n",
       "<table border=\"1\" class=\"dataframe\">\n",
       "  <thead>\n",
       "    <tr style=\"text-align: right;\">\n",
       "      <th></th>\n",
       "      <th>count</th>\n",
       "      <th>mean</th>\n",
       "      <th>std</th>\n",
       "      <th>min</th>\n",
       "      <th>25%</th>\n",
       "      <th>50%</th>\n",
       "      <th>75%</th>\n",
       "      <th>max</th>\n",
       "    </tr>\n",
       "  </thead>\n",
       "  <tbody>\n",
       "    <tr>\n",
       "      <th>aboard</th>\n",
       "      <td>4967.0</td>\n",
       "      <td>0.481889</td>\n",
       "      <td>0.704424</td>\n",
       "      <td>0.0</td>\n",
       "      <td>0.108696</td>\n",
       "      <td>0.248447</td>\n",
       "      <td>0.543478</td>\n",
       "      <td>10.0</td>\n",
       "    </tr>\n",
       "    <tr>\n",
       "      <th>aboardpass</th>\n",
       "      <td>4967.0</td>\n",
       "      <td>0.426902</td>\n",
       "      <td>0.701910</td>\n",
       "      <td>0.0</td>\n",
       "      <td>0.048860</td>\n",
       "      <td>0.195440</td>\n",
       "      <td>0.472313</td>\n",
       "      <td>10.0</td>\n",
       "    </tr>\n",
       "    <tr>\n",
       "      <th>aboardcrew</th>\n",
       "      <td>4967.0</td>\n",
       "      <td>0.730790</td>\n",
       "      <td>0.559044</td>\n",
       "      <td>0.0</td>\n",
       "      <td>0.327869</td>\n",
       "      <td>0.655738</td>\n",
       "      <td>0.819672</td>\n",
       "      <td>10.0</td>\n",
       "    </tr>\n",
       "    <tr>\n",
       "      <th>fpass</th>\n",
       "      <td>4967.0</td>\n",
       "      <td>0.330014</td>\n",
       "      <td>0.595673</td>\n",
       "      <td>0.0</td>\n",
       "      <td>0.017857</td>\n",
       "      <td>0.142857</td>\n",
       "      <td>0.357143</td>\n",
       "      <td>10.0</td>\n",
       "    </tr>\n",
       "    <tr>\n",
       "      <th>fcrew</th>\n",
       "      <td>4967.0</td>\n",
       "      <td>0.772008</td>\n",
       "      <td>0.672793</td>\n",
       "      <td>0.0</td>\n",
       "      <td>0.434783</td>\n",
       "      <td>0.652174</td>\n",
       "      <td>1.086957</td>\n",
       "      <td>10.0</td>\n",
       "    </tr>\n",
       "    <tr>\n",
       "      <th>gnd</th>\n",
       "      <td>4967.0</td>\n",
       "      <td>0.006232</td>\n",
       "      <td>0.201741</td>\n",
       "      <td>0.0</td>\n",
       "      <td>0.000000</td>\n",
       "      <td>0.000000</td>\n",
       "      <td>0.000000</td>\n",
       "      <td>10.0</td>\n",
       "    </tr>\n",
       "    <tr>\n",
       "      <th>ftot</th>\n",
       "      <td>4967.0</td>\n",
       "      <td>0.382846</td>\n",
       "      <td>0.600359</td>\n",
       "      <td>0.0</td>\n",
       "      <td>0.068611</td>\n",
       "      <td>0.188679</td>\n",
       "      <td>0.428816</td>\n",
       "      <td>10.0</td>\n",
       "    </tr>\n",
       "  </tbody>\n",
       "</table>\n",
       "</div>"
      ],
      "text/plain": [
       "             count      mean       std  min       25%       50%       75%  \\\n",
       "aboard      4967.0  0.481889  0.704424  0.0  0.108696  0.248447  0.543478   \n",
       "aboardpass  4967.0  0.426902  0.701910  0.0  0.048860  0.195440  0.472313   \n",
       "aboardcrew  4967.0  0.730790  0.559044  0.0  0.327869  0.655738  0.819672   \n",
       "fpass       4967.0  0.330014  0.595673  0.0  0.017857  0.142857  0.357143   \n",
       "fcrew       4967.0  0.772008  0.672793  0.0  0.434783  0.652174  1.086957   \n",
       "gnd         4967.0  0.006232  0.201741  0.0  0.000000  0.000000  0.000000   \n",
       "ftot        4967.0  0.382846  0.600359  0.0  0.068611  0.188679  0.428816   \n",
       "\n",
       "             max  \n",
       "aboard      10.0  \n",
       "aboardpass  10.0  \n",
       "aboardcrew  10.0  \n",
       "fpass       10.0  \n",
       "fcrew       10.0  \n",
       "gnd         10.0  \n",
       "ftot        10.0  "
      ]
     },
     "execution_count": 156,
     "metadata": {},
     "output_type": "execute_result"
    }
   ],
   "source": [
    "X.describe().T"
   ]
  },
  {
   "cell_type": "code",
   "execution_count": 157,
   "metadata": {},
   "outputs": [
    {
     "data": {
      "text/html": [
       "<div>\n",
       "<style scoped>\n",
       "    .dataframe tbody tr th:only-of-type {\n",
       "        vertical-align: middle;\n",
       "    }\n",
       "\n",
       "    .dataframe tbody tr th {\n",
       "        vertical-align: top;\n",
       "    }\n",
       "\n",
       "    .dataframe thead th {\n",
       "        text-align: right;\n",
       "    }\n",
       "</style>\n",
       "<table border=\"1\" class=\"dataframe\">\n",
       "  <thead>\n",
       "    <tr style=\"text-align: right;\">\n",
       "      <th></th>\n",
       "      <th>count</th>\n",
       "      <th>mean</th>\n",
       "      <th>std</th>\n",
       "      <th>min</th>\n",
       "      <th>25%</th>\n",
       "      <th>50%</th>\n",
       "      <th>75%</th>\n",
       "      <th>max</th>\n",
       "    </tr>\n",
       "  </thead>\n",
       "  <tbody>\n",
       "    <tr>\n",
       "      <th>ftot</th>\n",
       "      <td>4967.0</td>\n",
       "      <td>0.382846</td>\n",
       "      <td>0.600359</td>\n",
       "      <td>0.0</td>\n",
       "      <td>0.068611</td>\n",
       "      <td>0.188679</td>\n",
       "      <td>0.428816</td>\n",
       "      <td>10.0</td>\n",
       "    </tr>\n",
       "  </tbody>\n",
       "</table>\n",
       "</div>"
      ],
      "text/plain": [
       "       count      mean       std  min       25%       50%       75%   max\n",
       "ftot  4967.0  0.382846  0.600359  0.0  0.068611  0.188679  0.428816  10.0"
      ]
     },
     "execution_count": 157,
     "metadata": {},
     "output_type": "execute_result"
    }
   ],
   "source": [
    "Y.describe().T"
   ]
  },
  {
   "cell_type": "code",
   "execution_count": 158,
   "metadata": {},
   "outputs": [
    {
     "data": {
      "text/plain": [
       "(4967, 7)"
      ]
     },
     "execution_count": 158,
     "metadata": {},
     "output_type": "execute_result"
    }
   ],
   "source": [
    "X.shape"
   ]
  },
  {
   "cell_type": "markdown",
   "metadata": {},
   "source": [
    "## - Algoritmos de Aprendizaje de Máquina (ML)"
   ]
  },
  {
   "cell_type": "markdown",
   "metadata": {},
   "source": [
    "### Algoritmo de Clasificación: K-means"
   ]
  },
  {
   "cell_type": "markdown",
   "metadata": {},
   "source": [
    "### - Se importan las bibliotecas necesarias (pandas, numpy, sklearn, matplotlib)"
   ]
  },
  {
   "cell_type": "code",
   "execution_count": 159,
   "metadata": {},
   "outputs": [],
   "source": [
    "import pandas as pd\n",
    "import numpy as np\n",
    "from sklearn.cluster import KMeans\n",
    "#from sklearn import datasets\n",
    "import matplotlib.pyplot as plt\n",
    "plt.rcParams[\"figure.figsize\"] = (20,10)\n",
    "np.random.seed(12)\n",
    "n_samples = len(X)\n",
    "data = X\n",
    "#X"
   ]
  },
  {
   "cell_type": "markdown",
   "metadata": {},
   "source": [
    "### Cálculo del valor óptimo de ```k```"
   ]
  },
  {
   "cell_type": "code",
   "execution_count": 160,
   "metadata": {},
   "outputs": [],
   "source": [
    "ideal_k = []\n",
    "for i in range(1,40):\n",
    "    est_kmeans = KMeans(n_clusters=i)\n",
    "    est_kmeans.fit(X)\n",
    "    ideal_k.append([i,est_kmeans.inertia_])"
   ]
  },
  {
   "cell_type": "code",
   "execution_count": 161,
   "metadata": {},
   "outputs": [],
   "source": [
    "ideal_k = np.array(ideal_k)"
   ]
  },
  {
   "cell_type": "code",
   "execution_count": 162,
   "metadata": {},
   "outputs": [
    {
     "data": {
      "image/png": "[encoded data removed]",
      "text/plain": [
       "<Figure size 1440x720 with 1 Axes>"
      ]
     },
     "metadata": {
      "needs_background": "light"
     },
     "output_type": "display_data"
    }
   ],
   "source": [
    "plt.plot(ideal_k[:,0],ideal_k[:,1])\n",
    "plt.xlabel('Número de Clusters(k)')\n",
    "plt.ylabel('Distancia Promedio del Cluster con respecto a su Centroide')\n",
    "plt.show()"
   ]
  },
  {
   "cell_type": "markdown",
   "metadata": {},
   "source": [
    "### - Histograma de la matrix ```X```"
   ]
  },
  {
   "cell_type": "code",
   "execution_count": 163,
   "metadata": {},
   "outputs": [
    {
     "data": {
      "image/png": "[encoded data removed]",
      "text/plain": [
       "<Figure size 1440x720 with 9 Axes>"
      ]
     },
     "metadata": {
      "needs_background": "light"
     },
     "output_type": "display_data"
    }
   ],
   "source": [
    "X.hist()\n",
    "plt.show()"
   ]
  },
  {
   "cell_type": "markdown",
   "metadata": {},
   "source": [
    "## Aprendizaje Supervisado. Validación y Prueba."
   ]
  },
  {
   "cell_type": "code",
   "execution_count": 164,
   "metadata": {},
   "outputs": [],
   "source": [
    "# print(X.shape,Y.shape) Tamaño de matrix X y Vector Y"
   ]
  },
  {
   "cell_type": "markdown",
   "metadata": {},
   "source": [
    "### - Se importa la clase para crear el conjunto de Entrenamiento y Prueba."
   ]
  },
  {
   "cell_type": "code",
   "execution_count": 165,
   "metadata": {},
   "outputs": [],
   "source": [
    "from sklearn.model_selection import train_test_split"
   ]
  },
  {
   "cell_type": "markdown",
   "metadata": {},
   "source": [
    "### - Se particionan los datos de la Matriz *```X```* y el vector *```Y```* para formar: <br> .- El Conjunto de entrenamiento *```X_train```* y *```Y_train```* (80% de los datos) <br> .- Conjunto de prueba *```X_test```* y *```Y_test```* (20% de los datos)"
   ]
  },
  {
   "cell_type": "code",
   "execution_count": 166,
   "metadata": {},
   "outputs": [
    {
     "name": "stdout",
     "output_type": "stream",
     "text": [
      "(3973, 7) (994, 7) (3973, 1) (994, 1)\n"
     ]
    }
   ],
   "source": [
    "X_train, X_test, Y_train, Y_test = train_test_split(X, Y, test_size=0.20)\n",
    "print(X_train.shape, X_test.shape,Y_train.shape,Y_test.shape)"
   ]
  },
  {
   "cell_type": "markdown",
   "metadata": {},
   "source": [
    "### - Cálculo del porcentaje de tamaño del conjunto de validación."
   ]
  },
  {
   "cell_type": "code",
   "execution_count": 167,
   "metadata": {},
   "outputs": [
    {
     "data": {
      "text/plain": [
       "0.2501887742260257"
      ]
     },
     "execution_count": 167,
     "metadata": {},
     "output_type": "execute_result"
    }
   ],
   "source": [
    "dev_size = 994/3973\n",
    "dev_size"
   ]
  },
  {
   "cell_type": "markdown",
   "metadata": {},
   "source": [
    "### - Creación del conjunto de datos de Validación (25% de ```X-train``` y ```Y_train```"
   ]
  },
  {
   "cell_type": "code",
   "execution_count": 168,
   "metadata": {},
   "outputs": [
    {
     "name": "stdout",
     "output_type": "stream",
     "text": [
      "(2979, 7) (994, 7) (2979, 1) (994, 1)\n"
     ]
    }
   ],
   "source": [
    "X_train, X_dev, Y_train, Y_dev = train_test_split(X_train, Y_train, test_size=0.25)\n",
    "print(X_train.shape, X_dev.shape, Y_train.shape, Y_dev.shape)"
   ]
  },
  {
   "cell_type": "markdown",
   "metadata": {},
   "source": [
    "### - Proceso de *```k-fold Cross Validation```*. <br> ```k``` es el número de grupos en que el conjunto de datos será dividido. "
   ]
  },
  {
   "cell_type": "code",
   "execution_count": 169,
   "metadata": {},
   "outputs": [],
   "source": [
    "from sklearn.model_selection import train_test_split\n",
    "X_train, X_test, Y_train, Y_test = train_test_split(X,Y, test_size=0.2)"
   ]
  },
  {
   "cell_type": "code",
   "execution_count": 170,
   "metadata": {},
   "outputs": [],
   "source": [
    "from sklearn.model_selection import KFold"
   ]
  },
  {
   "cell_type": "code",
   "execution_count": 171,
   "metadata": {},
   "outputs": [],
   "source": [
    "kf = KFold(n_splits=10) # Datos se dividen en 10 partes\n",
    "splits = kf.split(X) # Y se combinan entre si."
   ]
  },
  {
   "cell_type": "code",
   "execution_count": 172,
   "metadata": {},
   "outputs": [],
   "source": [
    "for train_index, test_index in splits:\n",
    "    X_train, X_dev = X.iloc[train_index,:], X.iloc[test_index,:]\n",
    "    Y_train, Y_dev = Y.iloc[train_index,:], X.iloc[test_index,:]"
   ]
  },
  {
   "cell_type": "code",
   "execution_count": 173,
   "metadata": {},
   "outputs": [
    {
     "name": "stdout",
     "output_type": "stream",
     "text": [
      "(4471, 7) (496, 7) (4471, 1) (496, 7)\n"
     ]
    }
   ],
   "source": [
    "print(X_train.shape, X_dev.shape, Y_train.shape, Y_dev.shape)"
   ]
  },
  {
   "cell_type": "code",
   "execution_count": 174,
   "metadata": {},
   "outputs": [
    {
     "name": "stdout",
     "output_type": "stream",
     "text": [
      "(4470, 7) (497, 7) (4470, 1) (497, 1)\n"
     ]
    }
   ],
   "source": [
    "from sklearn.model_selection import train_test_split\n",
    "X_train, X_test, Y_train, Y_test = train_test_split(X,Y, test_size=0.1, random_state=0)\n",
    "print(X_train.shape, X_test.shape, Y_train.shape, Y_test.shape)"
   ]
  },
  {
   "cell_type": "markdown",
   "metadata": {},
   "source": [
    "## Regresion Model\n",
    "## MAE (Mean Absolute Error) / RMSE (Root Mean Square Error)"
   ]
  },
  {
   "cell_type": "code",
   "execution_count": 175,
   "metadata": {},
   "outputs": [
    {
     "name": "stdout",
     "output_type": "stream",
     "text": [
      "(4470, 7) (497, 7) (4470, 1) (497, 1)\n"
     ]
    }
   ],
   "source": [
    "from sklearn.model_selection import train_test_split\n",
    "X_train, X_test, Y_train, Y_test = train_test_split(X,Y, test_size=0.1, random_state=0)\n",
    "print(X_train.shape, X_test.shape, Y_train.shape, Y_test.shape)"
   ]
  },
  {
   "cell_type": "code",
   "execution_count": 176,
   "metadata": {},
   "outputs": [],
   "source": [
    "from sklearn import linear_model\n",
    "model = linear_model.LinearRegression()\n",
    "model = model.fit(X_train, Y_train)\n",
    "Y_pred = model.predict(X_test)"
   ]
  },
  {
   "cell_type": "code",
   "execution_count": 177,
   "metadata": {},
   "outputs": [
    {
     "data": {
      "text/plain": [
       "2.1431668952566462e-16"
      ]
     },
     "execution_count": 177,
     "metadata": {},
     "output_type": "execute_result"
    }
   ],
   "source": [
    "# MAE\n",
    "from sklearn.metrics import mean_absolute_error\n",
    "MAE = mean_absolute_error(Y_test, Y_pred)\n",
    "MAE"
   ]
  },
  {
   "cell_type": "code",
   "execution_count": 178,
   "metadata": {},
   "outputs": [
    {
     "data": {
      "text/plain": [
       "3.7913391940356445e-16"
      ]
     },
     "execution_count": 178,
     "metadata": {},
     "output_type": "execute_result"
    }
   ],
   "source": [
    "# RMSE\n",
    "from sklearn.metrics import mean_squared_error\n",
    "import numpy as np\n",
    "\n",
    "RMSE = np.sqrt(mean_squared_error(Y_test, Y_pred))\n",
    "RMSE"
   ]
  },
  {
   "cell_type": "code",
   "execution_count": 179,
   "metadata": {},
   "outputs": [],
   "source": [
    "# Error Analysis"
   ]
  },
  {
   "cell_type": "code",
   "execution_count": 180,
   "metadata": {},
   "outputs": [
    {
     "name": "stdout",
     "output_type": "stream",
     "text": [
      "(3978, 7) (492, 7) (497, 7) (3978, 1) (492, 1) (497, 1)\n"
     ]
    }
   ],
   "source": [
    "from sklearn.model_selection import train_test_split\n",
    "\n",
    "X_new, X_test, Y_new, Y_test = train_test_split(X,Y, test_size=0.1, random_state=101)\n",
    "X_train, X_dev, Y_train, Y_dev = train_test_split(X_new,Y_new, test_size=0.11, random_state=101)\n",
    "\n",
    "print(X_train.shape, X_dev.shape, X_test.shape, Y_train.shape, Y_dev.shape, Y_test.shape)"
   ]
  },
  {
   "cell_type": "code",
   "execution_count": 181,
   "metadata": {},
   "outputs": [
    {
     "name": "stdout",
     "output_type": "stream",
     "text": [
      "(50, 7) (50, 1)\n"
     ]
    }
   ],
   "source": [
    "import numpy as np\n",
    "np.random.seed(101)\n",
    "\n",
    "indices_train = np.random.randint(0,len(X_train),25)\n",
    "indices_dev = np.random.randint(0,len(X_dev),25)\n",
    "\n",
    "X_train_dev = pd.concat([X_train.iloc[indices_train,:],X_dev.iloc[indices_dev,:]])\n",
    "Y_train_dev = pd.concat([Y_train.iloc[indices_train,:],Y_dev.iloc[indices_dev,:]])\n",
    "\n",
    "print(X_train_dev.shape, Y_train_dev.shape)\n"
   ]
  },
  {
   "cell_type": "markdown",
   "metadata": {},
   "source": [
    "## Naive Bayes Algorithm"
   ]
  },
  {
   "cell_type": "code",
   "execution_count": 182,
   "metadata": {},
   "outputs": [],
   "source": [
    "import pandas as pd\n",
    "# Se carga este set de datos para el calculo comparativo de desempeño de los algoritmos\n",
    "data = pd.read_csv(\"fertility_Diagnosis.txt\", header=None) \n"
   ]
  },
  {
   "cell_type": "code",
   "execution_count": 183,
   "metadata": {},
   "outputs": [],
   "source": [
    "X = data.iloc[:,:9]\n",
    "Y = data.iloc[:,9]"
   ]
  },
  {
   "cell_type": "code",
   "execution_count": 184,
   "metadata": {},
   "outputs": [
    {
     "data": {
      "text/plain": [
       "GaussianNB(priors=None, var_smoothing=1e-09)"
      ]
     },
     "execution_count": 184,
     "metadata": {},
     "output_type": "execute_result"
    }
   ],
   "source": [
    "from sklearn.naive_bayes import GaussianNB\n",
    "model_NB = GaussianNB()\n",
    "model_NB.fit(X,Y)"
   ]
  },
  {
   "cell_type": "code",
   "execution_count": 185,
   "metadata": {},
   "outputs": [
    {
     "name": "stdout",
     "output_type": "stream",
     "text": [
      "Predicción del Algoritmo Naive-Bayes:  ['N']\n"
     ]
    }
   ],
   "source": [
    "pred_NB = model_NB.predict([[-0.33,0.69,0,1,1,0,0.8,0,0.88]])\n",
    "print('Predicción del Algoritmo Naive-Bayes: ',pred_NB)"
   ]
  },
  {
   "cell_type": "markdown",
   "metadata": {},
   "source": [
    "## Decision Tree"
   ]
  },
  {
   "cell_type": "code",
   "execution_count": 186,
   "metadata": {},
   "outputs": [
    {
     "data": {
      "text/plain": [
       "DecisionTreeClassifier(ccp_alpha=0.0, class_weight=None, criterion='gini',\n",
       "                       max_depth=None, max_features=None, max_leaf_nodes=None,\n",
       "                       min_impurity_decrease=0.0, min_impurity_split=None,\n",
       "                       min_samples_leaf=1, min_samples_split=2,\n",
       "                       min_weight_fraction_leaf=0.0, presort='deprecated',\n",
       "                       random_state=None, splitter='best')"
      ]
     },
     "execution_count": 186,
     "metadata": {},
     "output_type": "execute_result"
    }
   ],
   "source": [
    "import pandas as pd\n",
    "data = pd.read_csv(\"fertility_Diagnosis.txt\", header=None) # Tuve que utilizar este set de datos porque no funciono con el anterior.\n",
    "from sklearn.tree import DecisionTreeClassifier\n",
    "model_tree = DecisionTreeClassifier()\n",
    "model_tree.fit(X,Y)"
   ]
  },
  {
   "cell_type": "code",
   "execution_count": 187,
   "metadata": {},
   "outputs": [
    {
     "name": "stdout",
     "output_type": "stream",
     "text": [
      "Predicción del Algoritmo Decision Tree:  ['N']\n"
     ]
    }
   ],
   "source": [
    "pred_tree = model_tree.predict([[-0.33,0.69,0,1,1,0,0.8,0,0.88]])\n",
    "print('Predicción del Algoritmo Decision Tree: ', pred_tree)"
   ]
  },
  {
   "cell_type": "markdown",
   "metadata": {},
   "source": [
    "## SVM"
   ]
  },
  {
   "cell_type": "code",
   "execution_count": 188,
   "metadata": {},
   "outputs": [
    {
     "data": {
      "text/plain": [
       "SVC(C=1.0, break_ties=False, cache_size=200, class_weight=None, coef0=0.0,\n",
       "    decision_function_shape='ovr', degree=3, gamma='auto', kernel='rbf',\n",
       "    max_iter=-1, probability=False, random_state=None, shrinking=True,\n",
       "    tol=0.001, verbose=False)"
      ]
     },
     "execution_count": 188,
     "metadata": {},
     "output_type": "execute_result"
    }
   ],
   "source": [
    "import pandas as pd\n",
    "data = pd.read_csv(\"fertility_Diagnosis.txt\", header=None) # Tuve que utilizar este set de datos porque no funciono con el anterior.\n",
    "from sklearn.svm import SVC\n",
    "model_svm = SVC(gamma='auto')\n",
    "model_svm.fit(X,Y)"
   ]
  },
  {
   "cell_type": "code",
   "execution_count": 189,
   "metadata": {},
   "outputs": [
    {
     "name": "stdout",
     "output_type": "stream",
     "text": [
      "Predicción del Algoritmo Decision Tree:  ['N']\n"
     ]
    }
   ],
   "source": [
    "pred_svm = model_svm.predict([[-0.33,0.69,0,1,1,0,0.8,0,0.88]])\n",
    "print('Predicción del Algoritmo Decision Tree: ', pred_svm)"
   ]
  },
  {
   "cell_type": "markdown",
   "metadata": {},
   "source": [
    "## Comparación de Algoritmos de Machine Learning"
   ]
  },
  {
   "cell_type": "markdown",
   "metadata": {},
   "source": [
    "### Lineal Discriminant Analysis:\n",
    "##### Es un clasificador con un frontera de decisión lineal, generado al ajustar densidades condicionales de la clase a los datos y usando la regla de Bayes. El modelo ajusta una densidad Gaussiana a cada clase, y asume que todas las clases comparten la misma matrix de covarianza. El modelo de ajuste puede usarse tambien para reducir las dimensiones de la entrada al proyectarla a las direcciones mas discriminativas, al usar el método de ```transform```."
   ]
  },
  {
   "cell_type": "markdown",
   "metadata": {},
   "source": [
    "### AdaBoost:\n",
    "##### Los párametros más importantes son ```base_estimator```, ```n_estimators```, y ```learning_rate```.\n",
    "##### - ```base_estimator``` es el algoritmo de aprendizaje que se usa para entrenar los modelos débiles. Este parámetro casi nunca se cambia porque utiliza comúnmente el ```decision tree```. Este es el párametro por defecto.\n",
    "##### - ```n_estimators``` es el número de modelos a entrenar iterativamente.\n",
    "##### - ```learning_rate``` es la contribución de cada modelo a los ```pesos (weights)``` y su valor por defecto es 1. Reduciendo el ```learning rate``` significa que los pesos se incrementarán <br> or reducirán en un grado menor, forzando al modelo de entrenamiento a ser más lento (pero a veces resulta en mejor desempeño.\n",
    "##### ```loss``` es exclusivo a AdaBoostRegressor y configura el uso de la función de pérdida a cuando se actualizan los pesos. El valor por defecto es una función de pérdida lineal que puede cambiarse a cuadrada o exponencial.\n",
    "##### **Pros:** AdaBoost es de fácil implementación. Iterativamente corrige los errores del clasificador más débil y mejora el ```accuracy``` al combinar aprendizes débiles. <br> Se pueden usar muchos clasificadores con AdaBoost. AdaBoost is not tiende a ```overfitting```. \n",
    "##### **Cons:** AdaBoost es sensitivo a datos ruidosos. <br> - Es altamento afectado por \"outliers\" ya que trata de ajustar a cada punto perfectamente. <br> AdaBoost es más lento comparado a XGBoost."
   ]
  },
  {
   "cell_type": "markdown",
   "metadata": {},
   "source": [
    "### Carga de bibliotecas"
   ]
  },
  {
   "cell_type": "code",
   "execution_count": 190,
   "metadata": {},
   "outputs": [],
   "source": [
    "import pandas\n",
    "import matplotlib.pyplot as plt\n",
    "from sklearn import model_selection\n",
    "from sklearn.linear_model import LogisticRegression\n",
    "from sklearn.tree import DecisionTreeClassifier\n",
    "from sklearn.neighbors import KNeighborsClassifier\n",
    "from sklearn.discriminant_analysis import LinearDiscriminantAnalysis\n",
    "from sklearn.naive_bayes import GaussianNB\n",
    "from sklearn.svm import SVC\n",
    "from sklearn.ensemble import AdaBoostClassifier"
   ]
  },
  {
   "cell_type": "markdown",
   "metadata": {},
   "source": [
    "### - Carga del dataset"
   ]
  },
  {
   "cell_type": "code",
   "execution_count": 191,
   "metadata": {},
   "outputs": [],
   "source": [
    "url = \"https://raw.githubusercontent.com/jbrownlee/Datasets/master/pima-indians-diabetes.data.csv\"\n",
    "names = ['preg', 'plas', 'pres', 'skin', 'test', 'mass', 'pedi', 'age', 'class']\n",
    "dataframe = pandas.read_csv(url, names=names)\n",
    "array = dataframe.values\n",
    "X = array[:,0:8]\n",
    "Y = array[:,8]"
   ]
  },
  {
   "cell_type": "markdown",
   "metadata": {},
   "source": [
    "### - Preparar configuración para el banco de prueba del Cross Validation"
   ]
  },
  {
   "cell_type": "code",
   "execution_count": 192,
   "metadata": {},
   "outputs": [],
   "source": [
    "seed = 12"
   ]
  },
  {
   "cell_type": "markdown",
   "metadata": {},
   "source": [
    "### - Preparación de modelos."
   ]
  },
  {
   "cell_type": "code",
   "execution_count": 193,
   "metadata": {},
   "outputs": [],
   "source": [
    "models = []\n",
    "models.append(('Logistic Regression', LogisticRegression(max_iter=163))) # Condición máxima de iteraciones para asegurar convergencia del algoritmo.\n",
    "models.append(('Lineal Discriminant Analysis', LinearDiscriminantAnalysis()))\n",
    "models.append(('KNN', KNeighborsClassifier()))\n",
    "models.append(('Decision Tree', DecisionTreeClassifier()))\n",
    "models.append(('Naive-Bayes', GaussianNB()))\n",
    "models.append(('SVM', SVC()))\n",
    "models.append(('Ada Boost', AdaBoostClassifier())) # AdaBoost uses Decision Tree Classifier as default Classifier."
   ]
  },
  {
   "cell_type": "markdown",
   "metadata": {},
   "source": [
    "### - Evaluación de cada uno de los modelos por separado."
   ]
  },
  {
   "cell_type": "code",
   "execution_count": 194,
   "metadata": {},
   "outputs": [
    {
     "name": "stdout",
     "output_type": "stream",
     "text": [
      "Logistic Regression: Mean(0.770745) StdDev(0.042500)\n",
      "Lineal Discriminant Analysis: Mean(0.766849) StdDev(0.046694)\n",
      "KNN: Mean(0.705656) StdDev(0.045670)\n",
      "Decision Tree: Mean(0.677119) StdDev(0.036308)\n",
      "Naive-Bayes: Mean(0.752512) StdDev(0.043712)\n",
      "SVM: Mean(0.757741) StdDev(0.043981)\n",
      "Ada Boost: Mean(0.760355) StdDev(0.038580)\n"
     ]
    }
   ],
   "source": [
    "results = []\n",
    "names = []\n",
    "scoring = 'accuracy'\n",
    "for name, model in models:\n",
    "\tkfold = model_selection.KFold(n_splits=10, shuffle=True, random_state=seed)\n",
    "\tcv_results = model_selection.cross_val_score(model, X, Y, cv=kfold, scoring=scoring)\n",
    "\tresults.append(cv_results)\n",
    "\tnames.append(name)\n",
    "\tmsg = \"%s: Mean(%f) StdDev(%f)\" % (name, cv_results.mean(), cv_results.std())\n",
    "\tprint(msg)"
   ]
  },
  {
   "cell_type": "markdown",
   "metadata": {},
   "source": [
    "## - Comparación del \"Accuracy\" al aplicar siete algoritmos de Aprendizaje Supervisado a un conjunto de datos."
   ]
  },
  {
   "cell_type": "code",
   "execution_count": 195,
   "metadata": {},
   "outputs": [
    {
     "data": {
      "image/png": "[encoded data removed]",
      "text/plain": [
       "<Figure size 1440x720 with 1 Axes>"
      ]
     },
     "metadata": {
      "needs_background": "light"
     },
     "output_type": "display_data"
    }
   ],
   "source": [
    "fig = plt.figure()\n",
    "fig.suptitle('Comparación de Algoritmos')\n",
    "ax = fig.add_subplot(111)\n",
    "plt.boxplot(results)\n",
    "ax.set_xticklabels(names)\n",
    "ax.set_ylabel('Puntaje de niveles de \\\"Accuracy\\\"')\n",
    "plt.show()"
   ]
  },
  {
   "cell_type": "markdown",
   "metadata": {},
   "source": [
    "## Conclusiones: <br>\n",
    "### 1. Con base a los niveles de \"Accuracy\" se identifican como potenciales candidatos de modelo a usar en el problema de clasificación: <br> - Linear Regression <br> - Lineal Discriminant Analysis <br> - SVM\n",
    "### 2. El algoritmo de Logistic regression, no requiere mucho recurso computacional, es fácil de interpretar, las entradas (features) no necesitan ser escaladas, no se requiere ajustes, es fácil de regularizar y su salida es predecida probabilísticamente. Una desventaja importante es que no puede resolver problemas no-lineales ya que su proceso de decision es lineal. \n",
    "### 3. El algoritmo de Análisis de discriminante lineal se fundamenta en el ajuste de las densidades condicionales de la clase de datos y usa la regla de Bayes. La clasificación que realiza es rápida y de fácil implementación. Las desventajas que tiene es de asumir comportamiento gaussiano, tiempo de entrenamiento y operaciones de matrices complicadas.\n",
    "### 4. El algoritmo SVM tiene como ventajas que trabaja muy bien cuando hay un margen claro de de separación, es efectivo en espacios dimensionales grandes (número de dimensiones > al número de muestras), utiliza un subconjunto de puntos de entrenamiento en la función de decisión y es eficiente en el uso de memoria. En cuanto a desventajas no funciona muy bien con conjuntos de datos muy grandes así como cuando los datos son ruidosos. Este algoritmo no da estimados probabilísticos (estos se calculan por medio de 5 grupos de cross-validation."
   ]
  },
  {
   "cell_type": "markdown",
   "metadata": {},
   "source": [
    "## **Referencias:**\n",
    "### - A.Boschetti, L.Massaron, 2018. \"Python Data Science Essentials\". Recuperado de: https://learning.oreilly.com/videos/python-data-science/9781789538526\n",
    "### - A.Navlani, 2018. \"AdaBoost Classifier in Python\". Recurperado de: https://www.datacamp.com/community/tutorials/adaboost-classifier-python\n",
    "### - B.Bateman et al., 2020. \"The Supervised Learning Workshop - Second Edition\", Recuperado de: https://learning.oreilly.com/library/view/the-supervised-learning/9781800209046/\n",
    "### - C.Albon, 2017. \"Adaboost Classifier\", Recuperado de: https://chrisalbon.com/machine_learning/trees_and_forests/adaboost_classifier/\n",
    "### - G.Bonaccorso, 2018. \"Fundamentals of Machine Learning with scikit-learn\", Recuperado de: https://learning.oreilly.com/videos/fundamentals-of-machine/9781789134377\n",
    "### - J. Brownleeh, 2019. \"How To Compare Machine Learning Algorithms in Python with scikit-learn\". Recuperado de: https://machinelearningmastery.com/compare-machine-learning-algorithms-python-scikit-learn/\n",
    "### - S.Guido; A.Müller, 2016. \"Introduction to Machine Learning with Python\". Recuperado de: https://learning.oreilly.com/library/view/introduction-to-machine/9781449369880/ch01.html\n",
    "### - Scikit-learn, 2020. \"scikit-learn. Machine Learning in Python\", Recuperado de: https://scikit-learn.org/stable/index.html\n",
    "### - S.Banerjee et al., 2019. \"Python and Machine Learning Foundation\", Recuperado de: https://learning.oreilly.com/learning-paths/learning-path-python/9781838821111/\n",
    "### - S.Raschka et al., 2019. \"Python Machine Learning - Third Edition\", Recuperado de: https://learning.oreilly.com/library/view/python-machine-learning/9781789955750/"
   ]
  },
  {
   "cell_type": "markdown",
   "metadata": {},
   "source": [
    "## ** ***ULTIMA LINEA*** **"
   ]
  }
 ],
 "metadata": {
  "colab": {
   "collapsed_sections": [],
   "name": "Copy of Inv1-CBrenes.ipynb",
   "provenance": []
  },
  "kernelspec": {
   "display_name": "Python 3",
   "language": "python",
   "name": "python3"
  },
  "language_info": {
   "codemirror_mode": {
    "name": "ipython",
    "version": 3
   },
   "file_extension": ".py",
   "mimetype": "text/x-python",
   "name": "python",
   "nbconvert_exporter": "python",
   "pygments_lexer": "ipython3",
   "version": "3.8.3"
  }
 },
 "nbformat": 4,
 "nbformat_minor": 4
}
