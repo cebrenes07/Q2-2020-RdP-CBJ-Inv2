{
 "cells": [
  {
   "cell_type": "code",
   "execution_count": null,
   "metadata": {},
   "outputs": [],
   "source": [
    "### 4. El algoritmo SVM tiene como ventaja que trabaja muy bien cuando hay un margen claro de de separación, es efectivo en espacios dimensionales grandes (número de dimensiones > al número de muestras), utiliza un subconjunto de puntos de entrenamiento en la función de decisión y es eficiente en el uso de memoria. En cuanto a desventajas no funciona muy bien con conjuntos de datos muy grandes así como cuando los datos son ruidosos. Este algoritmo no da estimados probabilísticos (estos se calculan por medio de 5 grupos de cross-validation.\n"
   ]
  }
 ],
 "metadata": {
  "kernelspec": {
   "display_name": "Python 3",
   "language": "python",
   "name": "python3"
  },
  "language_info": {
   "codemirror_mode": {
    "name": "ipython",
    "version": 3
   },
   "file_extension": ".py",
   "mimetype": "text/x-python",
   "name": "python",
   "nbconvert_exporter": "python",
   "pygments_lexer": "ipython3",
   "version": "3.8.3"
  }
 },
 "nbformat": 4,
 "nbformat_minor": 4
}
